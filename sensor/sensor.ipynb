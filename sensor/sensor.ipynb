{
 "cells": [
  {
   "cell_type": "code",
   "execution_count": 1,
   "id": "3f88c760",
   "metadata": {},
   "outputs": [],
   "source": [
    "import os\n",
    "from dotenv import load_dotenv\n",
    "import logging\n",
    "from bson import json_util\n",
    "\n",
    "from pymongo import MongoClient\n",
    "from bson import ObjectId\n",
    "\n",
    "load_dotenv()\n",
    "logging.basicConfig(level=logging.INFO)"
   ]
  },
  {
   "cell_type": "code",
   "execution_count": 2,
   "id": "9cbd2e58",
   "metadata": {},
   "outputs": [],
   "source": [
    "class MongoConnection:\n",
    "    def __init__(self, collection_name: str, timeout_ms: int = 5000):\n",
    "        self.uri = os.getenv(\"MONGO_URI\")\n",
    "        self.timeout_ms = timeout_ms\n",
    "        self.db_name = os.getenv(\"DATABASE_NAME\")\n",
    "        self.collections = collection_name\n",
    "        \n",
    "    def connect(self) -> MongoClient:\n",
    "        if not self.uri:\n",
    "            raise ValueError(\"MONGO_URI is not set\")\n",
    "        self.client = MongoClient(self.uri, serverSelectionTimeoutMS=self.timeout_ms)\n",
    "        self.client.admin.command(\"ping\")\n",
    "        logging.info(\"Mongo connected\")\n",
    "        return self.client\n",
    "    \n",
    "    def get_db(self):\n",
    "        if not self.db_name or not self.collections:\n",
    "            raise ValueError(\"DATABASE_NAME or COLLECTIONS is not set\")\n",
    "        self.db = self.client[self.db_name]\n",
    "        self.collection = self.db[self.collections]\n",
    "        return self.db, self.collection"
   ]
  },
  {
   "cell_type": "code",
   "execution_count": null,
   "id": "6842e105",
   "metadata": {},
   "outputs": [
    {
     "name": "stderr",
     "output_type": "stream",
     "text": [
      "INFO:root:Mongo connected\n"
     ]
    }
   ],
   "source": [
    "mongo_sensor = MongoConnection(collection_name=\"SENSOR_COLLECTION\")\n",
    "client = mongo_sensor.connect()\n",
    "db, collection = mongo_sensor.get_db()"
   ]
  },
  {
   "cell_type": "code",
   "execution_count": 4,
   "id": "d652ff2a",
   "metadata": {},
   "outputs": [],
   "source": [
    "try:\n",
    "    sensor_oid = ObjectId(\"665feb0321d9dc54daa4e439\")\n",
    "    query = {\"_id\": sensor_oid}\n",
    "except Exception as e:\n",
    "    logging.error(f\"Error : {e}\")"
   ]
  },
  {
   "cell_type": "code",
   "execution_count": 5,
   "id": "52d9f493",
   "metadata": {},
   "outputs": [
    {
     "name": "stdout",
     "output_type": "stream",
     "text": [
      "No sensor found with ID 665feb0321d9dc54daa4e439\n"
     ]
    }
   ],
   "source": [
    "result = collection.find_one(query)\n",
    "if result:\n",
    "    print(\"Sensor document found:\")\n",
    "    print(json_util.dumps(result, indent=4))\n",
    "else:\n",
    "    print(f\"No sensor found with ID {sensor_oid}\")"
   ]
  },
  {
   "cell_type": "code",
   "execution_count": null,
   "id": "22105055",
   "metadata": {},
   "outputs": [],
   "source": []
  },
  {
   "cell_type": "code",
   "execution_count": null,
   "id": "d7b189bc",
   "metadata": {},
   "outputs": [],
   "source": []
  },
  {
   "cell_type": "code",
   "execution_count": null,
   "id": "24672523",
   "metadata": {},
   "outputs": [],
   "source": []
  }
 ],
 "metadata": {
  "kernelspec": {
   "display_name": "venv-analytics",
   "language": "python",
   "name": "python3"
  },
  "language_info": {
   "codemirror_mode": {
    "name": "ipython",
    "version": 3
   },
   "file_extension": ".py",
   "mimetype": "text/x-python",
   "name": "python",
   "nbconvert_exporter": "python",
   "pygments_lexer": "ipython3",
   "version": "3.12.11"
  }
 },
 "nbformat": 4,
 "nbformat_minor": 5
}
