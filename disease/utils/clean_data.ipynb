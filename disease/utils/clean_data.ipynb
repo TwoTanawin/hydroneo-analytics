{
 "cells": [
  {
   "cell_type": "code",
   "execution_count": 1,
   "id": "fc37c083",
   "metadata": {},
   "outputs": [],
   "source": [
    "import pandas as pd\n",
    "from geopy.geocoders import Nominatim\n",
    "import time\n",
    "from sklearn.cluster import DBSCAN\n",
    "import numpy as np\n",
    "from geopy.distance import geodesic\n",
    "import matplotlib.pyplot as plt\n",
    "import folium\n",
    "from sklearn.cluster import KMeans"
   ]
  },
  {
   "cell_type": "code",
   "execution_count": 2,
   "id": "a4e85e9d",
   "metadata": {},
   "outputs": [
    {
     "name": "stdout",
     "output_type": "stream",
     "text": [
      "                         id   latitude   longitude\n",
      "0  66fd107a636caa2b6a7218b8  16.335354  102.254739\n",
      "1  6707853b97fb7a0c60569ad7  13.706300  100.459700\n",
      "2  670e17dd97fb7a0c60b3820b  13.706300  100.459700\n",
      "3  670e182e97fb7a0c60b38670  13.753165  100.494722\n",
      "4  670e191297fb7a0c60b392a1  13.706300  100.459700\n"
     ]
    }
   ],
   "source": [
    "df = pd.read_parquet(r\"E:\\Hydroneo\\Analytics\\disease\\data\\disease_locations.parquet\", engine=\"pyarrow\")\n",
    "\n",
    "print(df.head())"
   ]
  },
  {
   "cell_type": "code",
   "execution_count": 3,
   "id": "f4f95339",
   "metadata": {},
   "outputs": [
    {
     "name": "stdout",
     "output_type": "stream",
     "text": [
      "52\n"
     ]
    }
   ],
   "source": [
    "print(len(df))"
   ]
  },
  {
   "cell_type": "code",
   "execution_count": 4,
   "id": "a9e16842",
   "metadata": {},
   "outputs": [],
   "source": [
    "df = df.drop(df[(df[\"latitude\"] == 0) & (df[\"longitude\"] == 0)].index)"
   ]
  },
  {
   "cell_type": "code",
   "execution_count": 5,
   "id": "1d331d4d",
   "metadata": {},
   "outputs": [],
   "source": [
    "df = df.reset_index(drop=True)"
   ]
  },
  {
   "cell_type": "code",
   "execution_count": 6,
   "id": "c286bab4",
   "metadata": {},
   "outputs": [
    {
     "name": "stdout",
     "output_type": "stream",
     "text": [
      "50\n"
     ]
    }
   ],
   "source": [
    "print(len(df))"
   ]
  },
  {
   "cell_type": "code",
   "execution_count": 7,
   "id": "6f85edbb",
   "metadata": {},
   "outputs": [],
   "source": [
    "df.to_parquet(\"cleaned_data_removed_ZERO.parquet\", index=False, engine=\"pyarrow\")"
   ]
  }
 ],
 "metadata": {
  "kernelspec": {
   "display_name": "venv-analytics",
   "language": "python",
   "name": "python3"
  },
  "language_info": {
   "codemirror_mode": {
    "name": "ipython",
    "version": 3
   },
   "file_extension": ".py",
   "mimetype": "text/x-python",
   "name": "python",
   "nbconvert_exporter": "python",
   "pygments_lexer": "ipython3",
   "version": "3.11.9"
  }
 },
 "nbformat": 4,
 "nbformat_minor": 5
}
