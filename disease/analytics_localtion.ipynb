{
 "cells": [
  {
   "cell_type": "code",
   "execution_count": 1,
   "id": "71eeb8ca",
   "metadata": {},
   "outputs": [],
   "source": [
    "import pandas as pd\n",
    "from geopy.geocoders import Nominatim\n",
    "import time\n",
    "from sklearn.cluster import DBSCAN\n",
    "import numpy as np\n",
    "from geopy.distance import geodesic\n",
    "import matplotlib.pyplot as plt\n",
    "import folium\n",
    "from sklearn.cluster import KMeans\n"
   ]
  },
  {
   "cell_type": "code",
   "execution_count": 2,
   "id": "f999fd95",
   "metadata": {},
   "outputs": [
    {
     "name": "stdout",
     "output_type": "stream",
     "text": [
      "                         id   latitude   longitude\n",
      "0  66fd107a636caa2b6a7218b8  16.335354  102.254739\n",
      "1  6707853b97fb7a0c60569ad7  13.706300  100.459700\n",
      "2  670e17dd97fb7a0c60b3820b  13.706300  100.459700\n",
      "3  670e182e97fb7a0c60b38670  13.753165  100.494722\n",
      "4  670e191297fb7a0c60b392a1  13.706300  100.459700\n"
     ]
    }
   ],
   "source": [
    "df = pd.read_parquet(r\"E:\\Hydroneo\\Analytics\\disease\\data\\cleaned_data_removed_ZERO.parquet\", engine=\"pyarrow\")\n",
    "\n",
    "print(df.head())"
   ]
  },
  {
   "cell_type": "code",
   "execution_count": 3,
   "id": "81480cd3",
   "metadata": {},
   "outputs": [],
   "source": [
    "# geolocator = Nominatim(user_agent=\"geoapiExercises\")\n"
   ]
  },
  {
   "cell_type": "code",
   "execution_count": 4,
   "id": "1310e0c2",
   "metadata": {},
   "outputs": [],
   "source": [
    "# countries, provinces = [], []\n",
    "\n",
    "# for lat, lon in zip(df[\"latitude\"], df[\"longitude\"]):\n",
    "#     try:\n",
    "#         location = geolocator.reverse((lat, lon), language=\"en\")\n",
    "#         address = location.raw.get(\"address\", {})\n",
    "\n",
    "#         country = address.get(\"country\")\n",
    "#         province = (\n",
    "#             address.get(\"province\") or\n",
    "#             address.get(\"state\") or\n",
    "#             address.get(\"region\") or\n",
    "#             address.get(\"county\")\n",
    "#         )\n",
    "\n",
    "#         countries.append(country)\n",
    "#         provinces.append(province)\n",
    "#     except Exception:\n",
    "#         countries.append(None)\n",
    "#         provinces.append(None)\n",
    "\n",
    "#     time.sleep(1)\n",
    "\n",
    "# df[\"country\"] = countries\n",
    "# df[\"province\"] = provinces"
   ]
  },
  {
   "cell_type": "code",
   "execution_count": 5,
   "id": "ca33661a",
   "metadata": {},
   "outputs": [],
   "source": [
    "# df.to_parquet(\n",
    "#     r\"E:\\Hydroneo\\Analytics\\disease\\data\\disease_locations_with_country.parquet\",\n",
    "#     engine=\"pyarrow\",\n",
    "#     index=False\n",
    "# )"
   ]
  },
  {
   "cell_type": "code",
   "execution_count": 6,
   "id": "35f37a99",
   "metadata": {},
   "outputs": [],
   "source": [
    "# df2 = pd.read_parquet(\n",
    "#     r\"E:\\Hydroneo\\Analytics\\disease\\data\\disease_locations_with_country.parquet\",\n",
    "#     engine=\"pyarrow\"\n",
    "# )\n",
    "# print(df2.head())"
   ]
  },
  {
   "cell_type": "code",
   "execution_count": 7,
   "id": "1d03d7d8",
   "metadata": {},
   "outputs": [
    {
     "name": "stdout",
     "output_type": "stream",
     "text": [
      "                          id   latitude   longitude  cluster\n",
      "0   66fd107a636caa2b6a7218b8  16.335354  102.254739        0\n",
      "1   6707853b97fb7a0c60569ad7  13.706300  100.459700        0\n",
      "2   670e17dd97fb7a0c60b3820b  13.706300  100.459700        0\n",
      "3   670e182e97fb7a0c60b38670  13.753165  100.494722        0\n",
      "4   670e191297fb7a0c60b392a1  13.706300  100.459700        0\n",
      "5   6740163295d1ba41579db9fe  13.590560  100.107780        0\n",
      "6   6743829a58f3fe3976ffe4f5  13.590560  100.107780        0\n",
      "7   674382f158f3fe3976ffe944  13.590560  100.107780        0\n",
      "8   6745bd0858f3fe397621c909  13.801940  100.321670        0\n",
      "9   674ef58c58f3fe3976afac8c  13.801940  100.321670        0\n",
      "10  6753800358f3fe3976f75e88   8.040000  100.275000        1\n",
      "11  67b2fb2c3d5d7b31611d5b62  13.728934  100.528738        0\n",
      "12  67b6da613d5d7b31615c6f55  13.556924  100.095091        0\n",
      "13  67e2ca0e124c5d2e9cb5f05b  13.556924  100.095091        0\n",
      "14  67e2ca53124c5d2e9cb5f413  13.556924  100.095091        0\n",
      "15  67e4ccd71556ac4af010c692  13.556924  100.095091        0\n",
      "16  67e4cd3a1556ac4af010cc20  13.556924  100.095091        0\n",
      "17  67e4cf071556ac4af010e7aa  13.556924  100.095091        0\n",
      "18  67e4dfc31556ac4af011f46e  13.556924  100.095091        0\n",
      "19  67fc43fc8cec3f52c840374c   7.355985   99.436026        1\n",
      "20  68255fd5d2cf0a59d2aad8e6  13.201746  101.252379        0\n",
      "21  683d4d5716d91876df89bbad  13.801849  100.321510        0\n",
      "22  6843291c16d91876dfcb20a6  13.556924  100.095091        0\n",
      "23  6843297616d91876dfcb2496  13.556924  100.095091        0\n",
      "24  684329d516d91876dfcb28a5  13.556924  100.095091        0\n",
      "25  686cbbb2ef15807d7e007d9b  13.728934  100.528738        0\n",
      "26  686cbbe6ef15807d7e0080b3  13.814029  100.037293        0\n",
      "27  686ce1aeef15807d7e028432  13.527667  100.158399        0\n",
      "28  686ce1b2ef15807d7e028471  13.527667  100.158399        0\n",
      "29  686ce1e0ef15807d7e028755  13.527667  100.158399        0\n",
      "30  686ce1e2ef15807d7e028756  13.527667  100.158399        0\n",
      "31  686ce213ef15807d7e028987  13.527667  100.158399        0\n",
      "32  686ce223ef15807d7e028a3d  13.527667  100.158399        0\n",
      "33  686ce234ef15807d7e028b54  13.527667  100.158399        0\n",
      "34  686ce239ef15807d7e028b7c  13.527667  100.158399        0\n",
      "35  686ce23aef15807d7e028b7f  13.527667  100.158399        0\n",
      "36  686ce23aef15807d7e028b80  13.527667  100.158399        0\n",
      "37  686ce249ef15807d7e028d09  13.527667  100.158399        0\n",
      "38  686ce24cef15807d7e028d49  13.527667  100.158399        0\n",
      "39  686f7da6ef15807d7e26be6d  13.728934  100.528738        0\n",
      "40  68dd26009f9ed60ded2d88fb  13.697250  101.129971        0\n",
      "41  68debbcb9f9ed60ded3d8c3d   6.619822  100.078534        1\n",
      "42  68debbd29f9ed60ded3d8ca4   6.619822  100.078534        1\n",
      "43  68debbd39f9ed60ded3d8ca5   6.619822  100.078534        1\n",
      "44  68debbe29f9ed60ded3d8d82   6.619822  100.078534        1\n",
      "45  68df3fb89f9ed60ded428ff9   6.619822  100.078534        1\n",
      "46  68ea5de8e542d924f051ef2a   6.619822  100.078534        1\n",
      "47  68ee35d751401b592ab5fc85  13.556924  100.095091        0\n",
      "48  68f1ad93ec96111fff13802f  13.728934  100.528738        0\n",
      "49  68f1ae59ec96111fff138741  13.728934  100.528738        0\n"
     ]
    }
   ],
   "source": [
    "# Convert lat/long to numpy array\n",
    "coords = df[['latitude', 'longitude']].to_numpy()\n",
    "\n",
    "# DBSCAN clustering\n",
    "db = DBSCAN(eps=0.05, min_samples=2, metric='haversine')  # eps in radians\n",
    "# Convert degrees → radians\n",
    "coords_rad = np.radians(coords)\n",
    "df['cluster'] = db.fit_predict(coords_rad)\n",
    "\n",
    "print(df)"
   ]
  },
  {
   "cell_type": "code",
   "execution_count": 8,
   "id": "1d4d5548",
   "metadata": {},
   "outputs": [
    {
     "name": "stdout",
     "output_type": "stream",
     "text": [
      "Cluster: 1\n"
     ]
    }
   ],
   "source": [
    "def find_cluster(new_lat, new_lon, df, eps_km=5):\n",
    "    for cluster_id in df['cluster'].unique():\n",
    "        if cluster_id == -1:  # -1 means noise in DBSCAN\n",
    "            continue\n",
    "        cluster_points = df[df['cluster'] == cluster_id][['latitude','longitude']].to_numpy()\n",
    "        for lat, lon in cluster_points:\n",
    "            distance = geodesic((new_lat, new_lon), (lat, lon)).km\n",
    "            if distance <= eps_km:\n",
    "                return cluster_id\n",
    "    return -1 \n",
    "\n",
    "new_lat, new_lon = 8.040000,  100.275000\n",
    "print(\"Cluster:\", find_cluster(new_lat, new_lon, df))"
   ]
  },
  {
   "cell_type": "code",
   "execution_count": 9,
   "id": "b95cce52",
   "metadata": {},
   "outputs": [
    {
     "data": {
      "image/png": "[encoded data removed]",
      "text/plain": [
       "<Figure size 800x600 with 2 Axes>"
      ]
     },
     "metadata": {},
     "output_type": "display_data"
    }
   ],
   "source": [
    "plt.figure(figsize=(8,6))\n",
    "scatter = plt.scatter(\n",
    "    df['longitude'], df['latitude'],\n",
    "    c=df['cluster'], cmap='tab10', s=100, alpha=0.7, edgecolors='k'\n",
    ")\n",
    "\n",
    "# Add labels\n",
    "for i, row in df.iterrows():\n",
    "    plt.text(row['longitude']+0.01, row['latitude']+0.01, str(row['cluster']), fontsize=9)\n",
    "\n",
    "plt.xlabel(\"Longitude\")\n",
    "plt.ylabel(\"Latitude\")\n",
    "plt.title(\"Clusters of Locations (DBSCAN)\")\n",
    "plt.colorbar(scatter, label=\"Cluster ID\")\n",
    "plt.show()"
   ]
  },
  {
   "cell_type": "code",
   "execution_count": 10,
   "id": "9ee330a0",
   "metadata": {},
   "outputs": [],
   "source": [
    "# m = folium.Map(location=[df['latitude'].mean(), df['longitude'].mean()], zoom_start=6)\n",
    "\n",
    "# colors = ['red', 'blue', 'green', 'purple', 'orange', 'darkred', 'lightblue']\n",
    "\n",
    "# for _, row in df.iterrows():\n",
    "#     cluster_id = row['cluster']\n",
    "#     color = colors[cluster_id % len(colors)] if cluster_id != -1 else \"gray\"\n",
    "#     folium.CircleMarker(\n",
    "#         location=[row['latitude'], row['longitude']],\n",
    "#         radius=6,\n",
    "#         color=color,\n",
    "#         fill=True,\n",
    "#         fill_opacity=0.7,\n",
    "#         popup=f\"ID: {row['id']} | Cluster: {cluster_id}\"\n",
    "#     ).add_to(m)\n",
    "\n",
    "# m.save(\"clusters.html\")"
   ]
  },
  {
   "cell_type": "code",
   "execution_count": 11,
   "id": "0145d5b8",
   "metadata": {},
   "outputs": [],
   "source": [
    "# # convert degrees to radians for DBSCAN\n",
    "# coords_rad = np.radians(df[['latitude', 'longitude']].to_numpy())\n",
    "\n",
    "# # helper function\n",
    "# def km_to_radians(km):\n",
    "#     return km / 6371.0\n",
    "\n",
    "# # try different cluster distances\n",
    "# for km in [50]:\n",
    "#     eps = km_to_radians(km)\n",
    "#     db = DBSCAN(eps=eps, min_samples=2, metric='haversine')\n",
    "#     df[f'cluster_{km}km'] = db.fit_predict(coords_rad)\n",
    "\n",
    "# print(df)"
   ]
  },
  {
   "cell_type": "code",
   "execution_count": 12,
   "id": "b2d24e5b",
   "metadata": {},
   "outputs": [],
   "source": [
    "# plt.figure(figsize=(8,6))\n",
    "# plt.scatter(df['longitude'], df['latitude'], \n",
    "#             c=df['cluster_30km'], cmap='tab10', s=100, edgecolors='k')\n",
    "# plt.xlabel(\"Longitude\")\n",
    "# plt.ylabel(\"Latitude\")\n",
    "# plt.title(\"DBSCAN Clusters (30 km radius)\")\n",
    "# plt.show()"
   ]
  },
  {
   "cell_type": "code",
   "execution_count": 13,
   "id": "b734206c",
   "metadata": {},
   "outputs": [],
   "source": [
    "coords = df[['latitude','longitude']].to_numpy()\n",
    "kmeans = KMeans(n_clusters=3, random_state=42).fit(coords)\n",
    "df['kmeans_cluster'] = kmeans.labels_"
   ]
  },
  {
   "cell_type": "code",
   "execution_count": 14,
   "id": "5088e2ae",
   "metadata": {},
   "outputs": [
    {
     "name": "stdout",
     "output_type": "stream",
     "text": [
      "New point belongs to cluster: 1\n"
     ]
    }
   ],
   "source": [
    "new_lat, new_lon = 8.040000, 100.275000\n",
    "new_point = np.array([[new_lat, new_lon]])\n",
    "pred_cluster = kmeans.predict(new_point)[0]\n",
    "\n",
    "print(f\"New point belongs to cluster: {pred_cluster}\")"
   ]
  },
  {
   "cell_type": "code",
   "execution_count": 15,
   "id": "8aa47edc",
   "metadata": {},
   "outputs": [
    {
     "data": {
      "image/png": "[encoded data removed]",
      "text/plain": [
       "<Figure size 800x600 with 1 Axes>"
      ]
     },
     "metadata": {},
     "output_type": "display_data"
    }
   ],
   "source": [
    "plt.figure(figsize=(8,6))\n",
    "\n",
    "# Plot clustered points\n",
    "plt.scatter(df['longitude'], df['latitude'], \n",
    "            c=df['kmeans_cluster'], cmap='tab10', s=100, edgecolors='k', label=\"Data points\")\n",
    "\n",
    "# Plot cluster centers\n",
    "centers = kmeans.cluster_centers_\n",
    "plt.scatter(centers[:,1], centers[:,0], c='black', s=200, marker='X', label=\"Cluster centers\")\n",
    "\n",
    "# Plot new point\n",
    "plt.scatter(new_lon, new_lat, c='red', s=150, marker='*', label=f\"New point (Cluster {pred_cluster})\")\n",
    "\n",
    "plt.xlabel(\"Longitude\")\n",
    "plt.ylabel(\"Latitude\")\n",
    "plt.title(\"KMeans Clustering with New Point\")\n",
    "plt.legend()\n",
    "plt.show()"
   ]
  },
  {
   "cell_type": "code",
   "execution_count": null,
   "id": "001924c9",
   "metadata": {},
   "outputs": [],
   "source": []
  },
  {
   "cell_type": "code",
   "execution_count": null,
   "id": "87816a1f",
   "metadata": {},
   "outputs": [],
   "source": []
  }
 ],
 "metadata": {
  "kernelspec": {
   "display_name": "venv-analytics",
   "language": "python",
   "name": "python3"
  },
  "language_info": {
   "codemirror_mode": {
    "name": "ipython",
    "version": 3
   },
   "file_extension": ".py",
   "mimetype": "text/x-python",
   "name": "python",
   "nbconvert_exporter": "python",
   "pygments_lexer": "ipython3",
   "version": "3.11.9"
  }
 },
 "nbformat": 4,
 "nbformat_minor": 5
}
