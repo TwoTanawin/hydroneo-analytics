{
 "cells": [
  {
   "cell_type": "code",
   "execution_count": 1,
   "id": "71eeb8ca",
   "metadata": {},
   "outputs": [],
   "source": [
    "import pandas as pd"
   ]
  },
  {
   "cell_type": "code",
   "execution_count": null,
   "id": "f999fd95",
   "metadata": {},
   "outputs": [],
   "source": [
    "df = pd.read_parquet(r\"E:\\Hydroneo\\Analytics\\disease\\data\\disease_locations.parquet\", engine=\"pyarrow\")\n",
    "\n",
    "print(df.head())"
   ]
  }
 ],
 "metadata": {
  "kernelspec": {
   "display_name": "venv-analytics",
   "language": "python",
   "name": "python3"
  },
  "language_info": {
   "codemirror_mode": {
    "name": "ipython",
    "version": 3
   },
   "file_extension": ".py",
   "mimetype": "text/x-python",
   "name": "python",
   "nbconvert_exporter": "python",
   "pygments_lexer": "ipython3",
   "version": "3.11.9"
  }
 },
 "nbformat": 4,
 "nbformat_minor": 5
}
