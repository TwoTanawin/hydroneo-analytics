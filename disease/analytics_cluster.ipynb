{
 "cells": [
  {
   "cell_type": "code",
   "execution_count": 1,
   "id": "adb195d5",
   "metadata": {},
   "outputs": [],
   "source": [
    "\n",
    "import pandas as pd\n",
    "from sklearn.cluster import KMeans\n",
    "import numpy as np\n",
    "from math import radians, sin, cos, sqrt, atan2\n",
    "from sklearn.metrics import silhouette_score\n",
    "import joblib\n",
    "import os\n",
    "from skl2onnx import convert_sklearn\n",
    "from skl2onnx.common.data_types import FloatTensorType\n",
    "from datetime import datetime\n",
    "import onnxruntime as ort\n",
    "import json\n",
    "import matplotlib.pyplot as plt"
   ]
  },
  {
   "cell_type": "code",
   "execution_count": 2,
   "id": "50a2065d",
   "metadata": {},
   "outputs": [],
   "source": [
    "def haversine(lat1, lon1, lat2, lon2):\n",
    "    R = 6371.0  # Earth's radius in km\n",
    "\n",
    "    dlat = radians(lat2 - lat1)\n",
    "    dlon = radians(lon2 - lon1)\n",
    "\n",
    "    a = sin(dlat / 2)**2 + cos(radians(lat1)) * cos(radians(lat2)) * sin(dlon / 2)**2\n",
    "    c = 2 * atan2(sqrt(a), sqrt(1 - a))\n",
    "\n",
    "    distance = R * c\n",
    "    return distance"
   ]
  },
  {
   "cell_type": "code",
   "execution_count": 3,
   "id": "d927574f",
   "metadata": {},
   "outputs": [],
   "source": [
    "def make_dirs(model_dir) -> str:\n",
    "    os.makedirs(model_dir, exist_ok=True)\n",
    "    return model_dir"
   ]
  },
  {
   "cell_type": "code",
   "execution_count": 4,
   "id": "b95218e0",
   "metadata": {},
   "outputs": [],
   "source": [
    "def save_skLearn_model(model_dir: str, model, n_clusters: int) -> str:\n",
    "    timestamp = datetime.now().strftime(\"%Y%m%d_%H%M%S\")\n",
    "    model_path = os.path.join(model_dir, f\"kmean_{n_clusters}_model_{timestamp}.pkl\")\n",
    "    joblib.dump(model, model_path)\n",
    "    print(f\"✅ Saved sklearn model to: {model_path}\")\n",
    "    return model_path"
   ]
  },
  {
   "cell_type": "code",
   "execution_count": 5,
   "id": "092a627e",
   "metadata": {},
   "outputs": [],
   "source": [
    "def convert_to_onnx(model, model_dir: str, n_clusters: int, n_features: int):\n",
    "    try:\n",
    "        timestamp = datetime.now().strftime(\"%Y%m%d_%H%M%S\")\n",
    "        onnx_path = os.path.join(model_dir, f\"kmean_{n_clusters}_model_{timestamp}.onnx\")\n",
    "        initial_type = [(\"float_input\", FloatTensorType([None, n_features]))]\n",
    "        onnx_model = convert_sklearn(model, initial_types=initial_type)\n",
    "        with open(onnx_path, \"wb\") as f:\n",
    "            f.write(onnx_model.SerializeToString())\n",
    "        print(f\"✅ Saved ONNX model to: {onnx_path}\")\n",
    "        return onnx_path\n",
    "    except Exception as e:\n",
    "        print(f\"❌ Could not convert to ONNX: {e}\")"
   ]
  },
  {
   "cell_type": "code",
   "execution_count": 6,
   "id": "764d04a8",
   "metadata": {},
   "outputs": [
    {
     "name": "stdout",
     "output_type": "stream",
     "text": [
      "                         id   latitude   longitude\n",
      "0  66fd107a636caa2b6a7218b8  16.335354  102.254739\n",
      "1  6707853b97fb7a0c60569ad7  13.706300  100.459700\n",
      "2  670e17dd97fb7a0c60b3820b  13.706300  100.459700\n",
      "3  670e182e97fb7a0c60b38670  13.753165  100.494722\n",
      "4  670e191297fb7a0c60b392a1  13.706300  100.459700\n"
     ]
    }
   ],
   "source": [
    "df = pd.read_parquet(r\"E:\\Hydroneo\\Analytics\\disease\\data\\cleaned_data_removed_ZERO.parquet\", engine=\"pyarrow\")\n",
    "\n",
    "print(df.head())"
   ]
  },
  {
   "cell_type": "code",
   "execution_count": 7,
   "id": "695053d4",
   "metadata": {},
   "outputs": [],
   "source": [
    "model_dir = r\"E:\\Hydroneo\\Analytics\\disease\\models\""
   ]
  },
  {
   "cell_type": "code",
   "execution_count": 8,
   "id": "a6e49cec",
   "metadata": {},
   "outputs": [],
   "source": [
    "# coords = df[['latitude', 'longitude']].to_numpy()\n",
    "\n",
    "\n",
    "# kmeans = KMeans(n_clusters=3, random_state=42)\n",
    "# df['cluster'] = kmeans.fit_predict(coords)\n",
    "\n",
    "# # Inspect results\n",
    "# print(df.head())\n",
    "    "
   ]
  },
  {
   "cell_type": "code",
   "execution_count": 9,
   "id": "e13b1371",
   "metadata": {},
   "outputs": [],
   "source": [
    "def train_kmeans(df: pd.DataFrame, n_clusters: int) -> tuple[pd.DataFrame, KMeans]:\n",
    "    coords = df[['latitude', 'longitude']].to_numpy()\n",
    "    kmeans = KMeans(n_clusters=n_clusters, random_state=42)\n",
    "    df['cluster'] = kmeans.fit_predict(coords)\n",
    "    return df, kmeans"
   ]
  },
  {
   "cell_type": "code",
   "execution_count": 10,
   "id": "f8cb8d05",
   "metadata": {},
   "outputs": [
    {
     "data": {
      "text/html": [
       "<div>\n",
       "<style scoped>\n",
       "    .dataframe tbody tr th:only-of-type {\n",
       "        vertical-align: middle;\n",
       "    }\n",
       "\n",
       "    .dataframe tbody tr th {\n",
       "        vertical-align: top;\n",
       "    }\n",
       "\n",
       "    .dataframe thead th {\n",
       "        text-align: right;\n",
       "    }\n",
       "</style>\n",
       "<table border=\"1\" class=\"dataframe\">\n",
       "  <thead>\n",
       "    <tr style=\"text-align: right;\">\n",
       "      <th></th>\n",
       "      <th>id</th>\n",
       "      <th>latitude</th>\n",
       "      <th>longitude</th>\n",
       "    </tr>\n",
       "  </thead>\n",
       "  <tbody>\n",
       "    <tr>\n",
       "      <th>0</th>\n",
       "      <td>66fd107a636caa2b6a7218b8</td>\n",
       "      <td>16.335354</td>\n",
       "      <td>102.254739</td>\n",
       "    </tr>\n",
       "    <tr>\n",
       "      <th>1</th>\n",
       "      <td>6707853b97fb7a0c60569ad7</td>\n",
       "      <td>13.706300</td>\n",
       "      <td>100.459700</td>\n",
       "    </tr>\n",
       "    <tr>\n",
       "      <th>2</th>\n",
       "      <td>670e17dd97fb7a0c60b3820b</td>\n",
       "      <td>13.706300</td>\n",
       "      <td>100.459700</td>\n",
       "    </tr>\n",
       "    <tr>\n",
       "      <th>3</th>\n",
       "      <td>670e182e97fb7a0c60b38670</td>\n",
       "      <td>13.753165</td>\n",
       "      <td>100.494722</td>\n",
       "    </tr>\n",
       "    <tr>\n",
       "      <th>4</th>\n",
       "      <td>670e191297fb7a0c60b392a1</td>\n",
       "      <td>13.706300</td>\n",
       "      <td>100.459700</td>\n",
       "    </tr>\n",
       "  </tbody>\n",
       "</table>\n",
       "</div>"
      ],
      "text/plain": [
       "                         id   latitude   longitude\n",
       "0  66fd107a636caa2b6a7218b8  16.335354  102.254739\n",
       "1  6707853b97fb7a0c60569ad7  13.706300  100.459700\n",
       "2  670e17dd97fb7a0c60b3820b  13.706300  100.459700\n",
       "3  670e182e97fb7a0c60b38670  13.753165  100.494722\n",
       "4  670e191297fb7a0c60b392a1  13.706300  100.459700"
      ]
     },
     "execution_count": 10,
     "metadata": {},
     "output_type": "execute_result"
    }
   ],
   "source": [
    "df.head()"
   ]
  },
  {
   "cell_type": "code",
   "execution_count": 11,
   "id": "49ea806a",
   "metadata": {},
   "outputs": [],
   "source": [
    "df, kmeans = train_kmeans(df, n_clusters=3)"
   ]
  },
  {
   "cell_type": "code",
   "execution_count": 12,
   "id": "6ecfa9b8",
   "metadata": {},
   "outputs": [],
   "source": [
    "# make_dirs(model_dir)\n",
    "\n",
    "# save_skLearn_model(model_dir, kmeans, n_clusters=2)\n",
    "# convert_to_onnx(kmeans, model_dir, n_clusters=2, n_features=2)"
   ]
  },
  {
   "cell_type": "code",
   "execution_count": 13,
   "id": "14ffe85f",
   "metadata": {},
   "outputs": [
    {
     "name": "stdout",
     "output_type": "stream",
     "text": [
      "score : 0.8947461368976874\n"
     ]
    }
   ],
   "source": [
    "score = silhouette_score(df[['latitude', 'longitude']], df['cluster'])\n",
    "print(f\"score : {score}\")"
   ]
  },
  {
   "cell_type": "code",
   "execution_count": 14,
   "id": "84b6f83e",
   "metadata": {},
   "outputs": [
    {
     "name": "stdout",
     "output_type": "stream",
     "text": [
      "Cluster centers (lat, lon):\n",
      "[[ 13.60647156 100.27249098]\n",
      " [  6.8893645  100.02277898]\n",
      " [ 16.33535391 102.25473855]]\n"
     ]
    }
   ],
   "source": [
    "print(\"Cluster centers (lat, lon):\")\n",
    "print(kmeans.cluster_centers_)"
   ]
  },
  {
   "cell_type": "code",
   "execution_count": 15,
   "id": "4381208c",
   "metadata": {},
   "outputs": [
    {
     "name": "stdout",
     "output_type": "stream",
     "text": [
      "16.3353539145895\n"
     ]
    }
   ],
   "source": [
    "print(kmeans.cluster_centers_[2][0])"
   ]
  },
  {
   "cell_type": "code",
   "execution_count": 16,
   "id": "1fcc1c53",
   "metadata": {},
   "outputs": [],
   "source": [
    "# # Example new coordinate\n",
    "new_lat, new_lon = 13.556924, 100.0950911\n",
    "\n",
    "# # Make sure it’s in the same format as training data [[lat, lon]]\n",
    "new_point = np.array([[new_lat, new_lon]])\n",
    "\n",
    "# # Predict cluster\n",
    "# cluster_id = kmeans.predict(new_point)[0]\n",
    "# print(f\"New point ({new_lat}, {new_lon}) belongs to cluster {cluster_id}\")"
   ]
  },
  {
   "cell_type": "code",
   "execution_count": 17,
   "id": "3087aadc",
   "metadata": {},
   "outputs": [],
   "source": [
    "def predict_cluster(new_lat, new_lon)->int:\n",
    "    new_point = np.array([[new_lat, new_lon]])\n",
    "\n",
    "    cluster_id = kmeans.predict(new_point)[0]\n",
    "    \n",
    "    return cluster_id"
   ]
  },
  {
   "cell_type": "code",
   "execution_count": 18,
   "id": "9d24d5d9",
   "metadata": {},
   "outputs": [
    {
     "name": "stdout",
     "output_type": "stream",
     "text": [
      "0\n"
     ]
    }
   ],
   "source": [
    "print(f\"{predict_cluster(new_lat, new_lon)}\")"
   ]
  },
  {
   "cell_type": "code",
   "execution_count": 19,
   "id": "1d2aee76",
   "metadata": {},
   "outputs": [
    {
     "name": "stdout",
     "output_type": "stream",
     "text": [
      "center of cluster [ 13.60647156 100.27249098]\n"
     ]
    }
   ],
   "source": [
    "cluster_id = predict_cluster(new_lat, new_lon)\n",
    "cluster_id_center = kmeans.cluster_centers_[cluster_id]\n",
    "print(f\"center of cluster {cluster_id_center}\")"
   ]
  },
  {
   "cell_type": "code",
   "execution_count": 20,
   "id": "d790dd58",
   "metadata": {},
   "outputs": [
    {
     "name": "stdout",
     "output_type": "stream",
     "text": [
      "100.27249097561129\n"
     ]
    }
   ],
   "source": [
    "print(cluster_id_center[1])"
   ]
  },
  {
   "cell_type": "code",
   "execution_count": 21,
   "id": "c710b6c1",
   "metadata": {},
   "outputs": [
    {
     "name": "stdout",
     "output_type": "stream",
     "text": [
      "Distance: 19 km\n"
     ]
    }
   ],
   "source": [
    "distance_input_to_cluster = haversine(cluster_id_center[0], cluster_id_center[1],\n",
    "                                      new_lat, new_lon)\n",
    "print(f\"Distance: {int(distance_input_to_cluster)} km\")"
   ]
  },
  {
   "cell_type": "code",
   "execution_count": 22,
   "id": "1fa617fa",
   "metadata": {},
   "outputs": [
    {
     "name": "stdout",
     "output_type": "stream",
     "text": [
      "Distance: 741 km\n"
     ]
    }
   ],
   "source": [
    "distance_input_to_cluster = haversine(kmeans.cluster_centers_[1][0],kmeans.cluster_centers_[1][1],\n",
    "                                      new_lat, new_lon)\n",
    "print(f\"Distance: {int(distance_input_to_cluster)} km\")"
   ]
  },
  {
   "cell_type": "code",
   "execution_count": 23,
   "id": "55a47861",
   "metadata": {},
   "outputs": [
    {
     "name": "stdout",
     "output_type": "stream",
     "text": [
      "Distance: 386 km\n"
     ]
    }
   ],
   "source": [
    "distance_input_to_cluster = haversine(kmeans.cluster_centers_[2][0],kmeans.cluster_centers_[2][1],\n",
    "                                      new_lat, new_lon)\n",
    "print(f\"Distance: {int(distance_input_to_cluster)} km\")"
   ]
  },
  {
   "cell_type": "code",
   "execution_count": 24,
   "id": "e9a98a04",
   "metadata": {},
   "outputs": [],
   "source": [
    "joplib_model_path = r'E:\\Hydroneo\\Analytics\\disease\\models\\kmean_2_model_20251029_110536.pkl'"
   ]
  },
  {
   "cell_type": "code",
   "execution_count": 25,
   "id": "3eb81eaf",
   "metadata": {},
   "outputs": [
    {
     "name": "stdout",
     "output_type": "stream",
     "text": [
      "✅ Predicted cluster: 0\n",
      "📍 Cluster center (lat, lon): [ 13.60647156 100.27249098]\n"
     ]
    }
   ],
   "source": [
    "kmeans_loaded = joblib.load(joplib_model_path)\n",
    "\n",
    "joblib_cluster_id = kmeans_loaded.predict(new_point)[0]\n",
    "\n",
    "print(f\"✅ Predicted cluster: {joblib_cluster_id}\")\n",
    "\n",
    "joblib_cluster_center = kmeans_loaded.cluster_centers_[cluster_id]\n",
    "\n",
    "print(f\"📍 Cluster center (lat, lon): {joblib_cluster_center}\")"
   ]
  },
  {
   "cell_type": "code",
   "execution_count": 26,
   "id": "99a9cbd7",
   "metadata": {},
   "outputs": [],
   "source": [
    "onnx_model_path = r'E:\\Hydroneo\\Analytics\\disease\\models\\kmean_2_model_20251029_110536.onnx'"
   ]
  },
  {
   "cell_type": "code",
   "execution_count": 27,
   "id": "cec7683d",
   "metadata": {},
   "outputs": [
    {
     "name": "stdout",
     "output_type": "stream",
     "text": [
      "✅ ONNX model loaded\n",
      "✅ Predicted cluster: 0\n"
     ]
    }
   ],
   "source": [
    "new_point = np.array([[new_lat, new_lon]], dtype=np.float32)  # <-- float32!\n",
    "\n",
    "# Load ONNX model\n",
    "session = ort.InferenceSession(onnx_model_path)\n",
    "input_name = session.get_inputs()[0].name\n",
    "output_name = session.get_outputs()[0].name\n",
    "print(\"✅ ONNX model loaded\")\n",
    "\n",
    "# Predict cluster\n",
    "predicted_cluster = session.run([output_name], {input_name: new_point})[0][0]\n",
    "print(f\"✅ Predicted cluster: {predicted_cluster}\")"
   ]
  },
  {
   "cell_type": "code",
   "execution_count": 28,
   "id": "cbafe44c",
   "metadata": {},
   "outputs": [],
   "source": [
    "centers = kmeans.cluster_centers_.tolist()  # convert numpy array to list\n",
    "with open(\"kmeans_centers.json\", \"w\") as f:\n",
    "    json.dump(centers, f)"
   ]
  },
  {
   "cell_type": "code",
   "execution_count": 31,
   "id": "d727e92a",
   "metadata": {},
   "outputs": [
    {
     "name": "stdout",
     "output_type": "stream",
     "text": [
      "Cluster 0:\n",
      "  (13.7063, 100.4597)\n",
      "  (13.7063, 100.4597)\n",
      "  (13.753164564515151, 100.49472150566612)\n",
      "  (13.7063, 100.4597)\n",
      "  (13.59056, 100.10778)\n",
      "  (13.59056, 100.10778)\n",
      "  (13.59056, 100.10778)\n",
      "  (13.80194, 100.32167)\n",
      "  (13.80194, 100.32167)\n",
      "  (13.728934351207734, 100.52873790264128)\n",
      "  (13.556924, 100.0950911)\n",
      "  (13.556924, 100.0950911)\n",
      "  (13.556924, 100.0950911)\n",
      "  (13.556924, 100.0950911)\n",
      "  (13.556924, 100.0950911)\n",
      "  (13.556924, 100.0950911)\n",
      "  (13.556924, 100.0950911)\n",
      "  (13.2017461, 101.2523792)\n",
      "  (13.8018485, 100.3215101)\n",
      "  (13.556924, 100.0950911)\n",
      "  (13.556924, 100.0950911)\n",
      "  (13.556924, 100.0950911)\n",
      "  (13.728934351207734, 100.52873790264128)\n",
      "  (13.8140293, 100.0372929)\n",
      "  (13.527666663474438, 100.15839859843254)\n",
      "  (13.527666663474438, 100.15839859843254)\n",
      "  (13.527666663474438, 100.15839859843254)\n",
      "  (13.527666663474438, 100.15839859843254)\n",
      "  (13.527666663474438, 100.15839859843254)\n",
      "  (13.527666663474438, 100.15839859843254)\n",
      "  (13.527666663474438, 100.15839859843254)\n",
      "  (13.527666663474438, 100.15839859843254)\n",
      "  (13.527666663474438, 100.15839859843254)\n",
      "  (13.527666663474438, 100.15839859843254)\n",
      "  (13.527666663474438, 100.15839859843254)\n",
      "  (13.527666663474438, 100.15839859843254)\n",
      "  (13.728934351207734, 100.52873790264128)\n",
      "  (13.6972497, 101.1299715)\n",
      "  (13.556924, 100.0950911)\n",
      "  (13.728934351207734, 100.52873790264128)\n",
      "  (13.728934351207734, 100.52873790264128)\n",
      "Cluster 1:\n",
      "  (8.04, 100.275)\n",
      "  (7.3559851640483815, 99.43602606654167)\n",
      "  (6.6198218, 100.0785343)\n",
      "  (6.6198218, 100.0785343)\n",
      "  (6.6198218, 100.0785343)\n",
      "  (6.6198218, 100.0785343)\n",
      "  (6.6198218, 100.0785343)\n",
      "  (6.6198218, 100.0785343)\n",
      "Cluster 2:\n",
      "  (16.3353539145895, 102.25473855121979)\n"
     ]
    }
   ],
   "source": [
    "clusters = df.groupby('cluster')[['latitude', 'longitude']].apply(lambda x: x.values.tolist())\n",
    "\n",
    "for cluster_id, points in clusters.items():\n",
    "    print(f\"Cluster {cluster_id}:\")\n",
    "    for lat, lon in points:\n",
    "        print(f\"  ({lat}, {lon})\")"
   ]
  },
  {
   "cell_type": "code",
   "execution_count": null,
   "id": "d19a931e",
   "metadata": {},
   "outputs": [],
   "source": []
  }
 ],
 "metadata": {
  "kernelspec": {
   "display_name": "venv-analytics",
   "language": "python",
   "name": "python3"
  },
  "language_info": {
   "codemirror_mode": {
    "name": "ipython",
    "version": 3
   },
   "file_extension": ".py",
   "mimetype": "text/x-python",
   "name": "python",
   "nbconvert_exporter": "python",
   "pygments_lexer": "ipython3",
   "version": "3.11.9"
  }
 },
 "nbformat": 4,
 "nbformat_minor": 5
}
