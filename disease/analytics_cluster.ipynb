{
 "cells": [
  {
   "cell_type": "code",
   "execution_count": 1,
   "id": "adb195d5",
   "metadata": {},
   "outputs": [],
   "source": [
    "\n",
    "import pandas as pd\n",
    "from sklearn.cluster import KMeans\n",
    "import numpy as np\n",
    "from math import radians, sin, cos, sqrt, atan2\n",
    "from sklearn.metrics import silhouette_score\n",
    "import joblib\n",
    "import os"
   ]
  },
  {
   "cell_type": "code",
   "execution_count": 2,
   "id": "50a2065d",
   "metadata": {},
   "outputs": [],
   "source": [
    "def haversine(lat1, lon1, lat2, lon2):\n",
    "    R = 6371.0  # Earth's radius in km\n",
    "\n",
    "    dlat = radians(lat2 - lat1)\n",
    "    dlon = radians(lon2 - lon1)\n",
    "\n",
    "    a = sin(dlat / 2)**2 + cos(radians(lat1)) * cos(radians(lat2)) * sin(dlon / 2)**2\n",
    "    c = 2 * atan2(sqrt(a), sqrt(1 - a))\n",
    "\n",
    "    distance = R * c\n",
    "    return distance"
   ]
  },
  {
   "cell_type": "code",
   "execution_count": 3,
   "id": "d927574f",
   "metadata": {},
   "outputs": [],
   "source": [
    "def make_dirs(model_dir) -> str:\n",
    "    os.makedirs(model_dir, exist_ok=True)\n",
    "    return model_dir"
   ]
  },
  {
   "cell_type": "code",
   "execution_count": 4,
   "id": "b95218e0",
   "metadata": {},
   "outputs": [],
   "source": [
    "def save_model(model_dir, model_path, model, n_clusters):\n",
    "    model_path = os.path.join(model_dir, f\"kmean_{n_clusters}_model.pkl\")\n",
    "    joblib.dump(model, model_path)"
   ]
  },
  {
   "cell_type": "code",
   "execution_count": 5,
   "id": "764d04a8",
   "metadata": {},
   "outputs": [
    {
     "name": "stdout",
     "output_type": "stream",
     "text": [
      "                         id   latitude   longitude\n",
      "0  66fd107a636caa2b6a7218b8  16.335354  102.254739\n",
      "1  6707853b97fb7a0c60569ad7  13.706300  100.459700\n",
      "2  670e17dd97fb7a0c60b3820b  13.706300  100.459700\n",
      "3  670e182e97fb7a0c60b38670  13.753165  100.494722\n",
      "4  670e191297fb7a0c60b392a1  13.706300  100.459700\n"
     ]
    }
   ],
   "source": [
    "df = pd.read_parquet(r\"E:\\Hydroneo\\Analytics\\disease\\data\\cleaned_data_removed_ZERO.parquet\", engine=\"pyarrow\")\n",
    "\n",
    "print(df.head())"
   ]
  },
  {
   "cell_type": "code",
   "execution_count": 6,
   "id": "695053d4",
   "metadata": {},
   "outputs": [],
   "source": [
    "model_dir = r\"E:\\Hydroneo\\Analytics\\disease\\models\""
   ]
  },
  {
   "cell_type": "code",
   "execution_count": 7,
   "id": "a6e49cec",
   "metadata": {},
   "outputs": [],
   "source": [
    "# coords = df[['latitude', 'longitude']].to_numpy()\n",
    "\n",
    "\n",
    "# kmeans = KMeans(n_clusters=3, random_state=42)\n",
    "# df['cluster'] = kmeans.fit_predict(coords)\n",
    "\n",
    "# # Inspect results\n",
    "# print(df.head())\n",
    "    "
   ]
  },
  {
   "cell_type": "code",
   "execution_count": 8,
   "id": "e13b1371",
   "metadata": {},
   "outputs": [],
   "source": [
    "def train_kmeans(df: pd.DataFrame, n_clusters: int) -> tuple[pd.DataFrame, KMeans]:\n",
    "    coords = df[['latitude', 'longitude']].to_numpy()\n",
    "    kmeans = KMeans(n_clusters=n_clusters, random_state=42)\n",
    "    df['cluster'] = kmeans.fit_predict(coords)\n",
    "    return df, kmeans"
   ]
  },
  {
   "cell_type": "code",
   "execution_count": 9,
   "id": "2cdbf1f5",
   "metadata": {},
   "outputs": [],
   "source": [
    "df, kmeans = train_kmeans(df, n_clusters=3)"
   ]
  },
  {
   "cell_type": "code",
   "execution_count": 10,
   "id": "14ffe85f",
   "metadata": {},
   "outputs": [
    {
     "name": "stdout",
     "output_type": "stream",
     "text": [
      "score : 0.8947461368976874\n"
     ]
    }
   ],
   "source": [
    "score = silhouette_score(df[['latitude', 'longitude']], df['cluster'])\n",
    "print(f\"score : {score}\")"
   ]
  },
  {
   "cell_type": "code",
   "execution_count": 11,
   "id": "84b6f83e",
   "metadata": {},
   "outputs": [
    {
     "name": "stdout",
     "output_type": "stream",
     "text": [
      "Cluster centers (lat, lon):\n",
      "[[ 13.60647156 100.27249098]\n",
      " [  6.8893645  100.02277898]\n",
      " [ 16.33535391 102.25473855]]\n"
     ]
    }
   ],
   "source": [
    "print(\"Cluster centers (lat, lon):\")\n",
    "print(kmeans.cluster_centers_)"
   ]
  },
  {
   "cell_type": "code",
   "execution_count": 12,
   "id": "4381208c",
   "metadata": {},
   "outputs": [
    {
     "name": "stdout",
     "output_type": "stream",
     "text": [
      "16.3353539145895\n"
     ]
    }
   ],
   "source": [
    "print(kmeans.cluster_centers_[2][0])"
   ]
  },
  {
   "cell_type": "code",
   "execution_count": 13,
   "id": "1fcc1c53",
   "metadata": {},
   "outputs": [],
   "source": [
    "# # Example new coordinate\n",
    "new_lat, new_lon = 13.556924, 100.0950911\n",
    "\n",
    "# # Make sure it’s in the same format as training data [[lat, lon]]\n",
    "# new_point = np.array([[new_lat, new_lon]])\n",
    "\n",
    "# # Predict cluster\n",
    "# cluster_id = kmeans.predict(new_point)[0]\n",
    "# print(f\"New point ({new_lat}, {new_lon}) belongs to cluster {cluster_id}\")"
   ]
  },
  {
   "cell_type": "code",
   "execution_count": 14,
   "id": "3087aadc",
   "metadata": {},
   "outputs": [],
   "source": [
    "def predict_cluster(new_lat, new_lon)->int:\n",
    "    new_point = np.array([[new_lat, new_lon]])\n",
    "\n",
    "    cluster_id = kmeans.predict(new_point)[0]\n",
    "    \n",
    "    return cluster_id"
   ]
  },
  {
   "cell_type": "code",
   "execution_count": 15,
   "id": "9d24d5d9",
   "metadata": {},
   "outputs": [
    {
     "name": "stdout",
     "output_type": "stream",
     "text": [
      "0\n"
     ]
    }
   ],
   "source": [
    "print(f\"{predict_cluster(new_lat, new_lon)}\")"
   ]
  },
  {
   "cell_type": "code",
   "execution_count": 16,
   "id": "1d2aee76",
   "metadata": {},
   "outputs": [
    {
     "name": "stdout",
     "output_type": "stream",
     "text": [
      "center of cluster [ 13.60647156 100.27249098]\n"
     ]
    }
   ],
   "source": [
    "cluster_id = predict_cluster(new_lat, new_lon)\n",
    "cluster_id_center = kmeans.cluster_centers_[cluster_id]\n",
    "print(f\"center of cluster {cluster_id_center}\")"
   ]
  },
  {
   "cell_type": "code",
   "execution_count": 17,
   "id": "d790dd58",
   "metadata": {},
   "outputs": [
    {
     "name": "stdout",
     "output_type": "stream",
     "text": [
      "100.27249097561129\n"
     ]
    }
   ],
   "source": [
    "print(cluster_id_center[1])"
   ]
  },
  {
   "cell_type": "code",
   "execution_count": 18,
   "id": "c710b6c1",
   "metadata": {},
   "outputs": [
    {
     "name": "stdout",
     "output_type": "stream",
     "text": [
      "Distance: 19 km\n"
     ]
    }
   ],
   "source": [
    "distance_input_to_cluster = haversine(cluster_id_center[0], cluster_id_center[1],\n",
    "                                      new_lat, new_lon)\n",
    "print(f\"Distance: {int(distance_input_to_cluster)} km\")"
   ]
  },
  {
   "cell_type": "code",
   "execution_count": 19,
   "id": "1fa617fa",
   "metadata": {},
   "outputs": [
    {
     "name": "stdout",
     "output_type": "stream",
     "text": [
      "Distance: 741 km\n"
     ]
    }
   ],
   "source": [
    "distance_input_to_cluster = haversine(kmeans.cluster_centers_[1][0],kmeans.cluster_centers_[1][1],\n",
    "                                      new_lat, new_lon)\n",
    "print(f\"Distance: {int(distance_input_to_cluster)} km\")"
   ]
  },
  {
   "cell_type": "code",
   "execution_count": 20,
   "id": "55a47861",
   "metadata": {},
   "outputs": [
    {
     "name": "stdout",
     "output_type": "stream",
     "text": [
      "Distance: 386 km\n"
     ]
    }
   ],
   "source": [
    "distance_input_to_cluster = haversine(kmeans.cluster_centers_[2][0],kmeans.cluster_centers_[2][1],\n",
    "                                      new_lat, new_lon)\n",
    "print(f\"Distance: {int(distance_input_to_cluster)} km\")"
   ]
  }
 ],
 "metadata": {
  "kernelspec": {
   "display_name": "venv-analytics",
   "language": "python",
   "name": "python3"
  },
  "language_info": {
   "codemirror_mode": {
    "name": "ipython",
    "version": 3
   },
   "file_extension": ".py",
   "mimetype": "text/x-python",
   "name": "python",
   "nbconvert_exporter": "python",
   "pygments_lexer": "ipython3",
   "version": "3.11.9"
  }
 },
 "nbformat": 4,
 "nbformat_minor": 5
}
